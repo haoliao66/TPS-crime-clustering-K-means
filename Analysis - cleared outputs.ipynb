{
 "cells": [
  {
   "cell_type": "code",
   "execution_count": null,
   "metadata": {
    "executionInfo": {
     "elapsed": 130,
     "status": "ok",
     "timestamp": 1730858706653,
     "user": {
      "displayName": "Suha Lee",
      "userId": "00332563912781774570"
     },
     "user_tz": 300
    },
    "id": "X2sjlPBioJjF"
   },
   "outputs": [],
   "source": [
    "# Import libraries\n",
    "import numpy as np\n",
    "import pandas as pd\n",
    "import seaborn as sns\n",
    "import matplotlib.pyplot as plt\n",
    "\n",
    "import folium\n",
    "from folium.plugins import HeatMap\n",
    "from folium.plugins import MarkerCluster\n",
    "\n",
    "from sklearn.cluster import KMeans\n",
    "from sklearn.preprocessing import StandardScaler\n",
    "import matplotlib.cm as cm\n",
    "from matplotlib import colors as mcolors\n",
    "from sklearn.decomposition import PCA"
   ]
  },
  {
   "cell_type": "code",
   "execution_count": null,
   "metadata": {
    "colab": {
     "base_uri": "https://localhost:8080/",
     "height": 460
    },
    "executionInfo": {
     "elapsed": 4335,
     "status": "ok",
     "timestamp": 1730858712038,
     "user": {
      "displayName": "Suha Lee",
      "userId": "00332563912781774570"
     },
     "user_tz": 300
    },
    "id": "w564vGQLoFxd",
    "outputId": "a7f8e494-36b9-47a4-aa16-0eda3ea5a3fe"
   },
   "outputs": [],
   "source": [
    "FILEPATH = './Major_Crime_Indicators_Open_Data_-3805566126367379926.csv'\n",
    "data = pd.read_csv(FILEPATH, index_col=0)\n",
    "df = data.copy()\n",
    "df.head()"
   ]
  },
  {
   "cell_type": "code",
   "execution_count": null,
   "metadata": {
    "colab": {
     "base_uri": "https://localhost:8080/"
    },
    "executionInfo": {
     "elapsed": 422,
     "status": "ok",
     "timestamp": 1730858712458,
     "user": {
      "displayName": "Suha Lee",
      "userId": "00332563912781774570"
     },
     "user_tz": 300
    },
    "id": "NIm2Bdocobsi",
    "outputId": "8d41faa3-affd-440a-fa6d-8c2151ab8b1d"
   },
   "outputs": [],
   "source": [
    "df.info()"
   ]
  },
  {
   "cell_type": "code",
   "execution_count": null,
   "metadata": {
    "colab": {
     "base_uri": "https://localhost:8080/",
     "height": 1000
    },
    "executionInfo": {
     "elapsed": 432,
     "status": "ok",
     "timestamp": 1730858712888,
     "user": {
      "displayName": "Suha Lee",
      "userId": "00332563912781774570"
     },
     "user_tz": 300
    },
    "id": "NfCCHWKKiIWl",
    "outputId": "72a55549-9896-41d1-8ca0-9910870c71b8"
   },
   "outputs": [],
   "source": [
    "# count null value of all columns\n",
    "df.isnull().sum()"
   ]
  },
  {
   "cell_type": "code",
   "execution_count": null,
   "metadata": {
    "colab": {
     "base_uri": "https://localhost:8080/",
     "height": 1000
    },
    "executionInfo": {
     "elapsed": 664,
     "status": "ok",
     "timestamp": 1730858713549,
     "user": {
      "displayName": "Suha Lee",
      "userId": "00332563912781774570"
     },
     "user_tz": 300
    },
    "id": "lhqAFesv31SB",
    "outputId": "58491454-9ed3-447f-9b1f-17ad065648ef"
   },
   "outputs": [],
   "source": [
    "# remove null values of data\n",
    "df = df.dropna()\n",
    "df.isnull().sum()"
   ]
  },
  {
   "cell_type": "code",
   "execution_count": null,
   "metadata": {
    "executionInfo": {
     "elapsed": 151,
     "status": "ok",
     "timestamp": 1730858713697,
     "user": {
      "displayName": "Suha Lee",
      "userId": "00332563912781774570"
     },
     "user_tz": 300
    },
    "id": "1FKMXm7egAm7"
   },
   "outputs": [],
   "source": [
    "dropped_columns = ['HOOD_140', 'NEIGHBOURHOOD_140', 'x', 'y']\n",
    "df = df[df['NEIGHBOURHOOD_158'] != 'NSA']\n",
    "df.drop(dropped_columns, axis=1, inplace=True)"
   ]
  },
  {
   "cell_type": "code",
   "execution_count": null,
   "metadata": {
    "colab": {
     "base_uri": "https://localhost:8080/"
    },
    "executionInfo": {
     "elapsed": 4,
     "status": "ok",
     "timestamp": 1730858713697,
     "user": {
      "displayName": "Suha Lee",
      "userId": "00332563912781774570"
     },
     "user_tz": 300
    },
    "id": "Ku6lzqRB7CT3",
    "outputId": "28102eed-c041-435a-aa51-d98925542cd8"
   },
   "outputs": [],
   "source": [
    "long_min, long_max = df['LONG_WGS84'].min(), df['LONG_WGS84'].max()\n",
    "lat_min, lat_max = df['LAT_WGS84'].min(), df['LAT_WGS84'].max()\n",
    "\n",
    "print(f\"Longitude range: {long_min} to {long_max}\")\n",
    "print(f\"Latitude range: {lat_min} to {lat_max}\")"
   ]
  },
  {
   "cell_type": "code",
   "execution_count": null,
   "metadata": {
    "executionInfo": {
     "elapsed": 214,
     "status": "ok",
     "timestamp": 1730858713908,
     "user": {
      "displayName": "Suha Lee",
      "userId": "00332563912781774570"
     },
     "user_tz": 300
    },
    "id": "2Jm6UzqfANrQ"
   },
   "outputs": [],
   "source": [
    "year_max, year_min = df['REPORT_YEAR'].max(), df['REPORT_YEAR'].min()\n",
    "print(f\"Original year range: {year_min} to {year_max}\")\n",
    "# Crime trend from 2014 - 2024\n",
    "df_filtered = df[df['REPORT_YEAR'] != 2025]"
   ]
  },
  {
   "cell_type": "code",
   "execution_count": null,
   "metadata": {
    "colab": {
     "base_uri": "https://localhost:8080/",
     "height": 585
    },
    "executionInfo": {
     "elapsed": 198,
     "status": "ok",
     "timestamp": 1730858714104,
     "user": {
      "displayName": "Suha Lee",
      "userId": "00332563912781774570"
     },
     "user_tz": 300
    },
    "id": "SdRz34Y3kdeM",
    "outputId": "4fb65226-71b9-4b22-96b5-fe8a2d76ee65"
   },
   "outputs": [],
   "source": [
    "yearly_cases = df_filtered.groupby(['REPORT_YEAR']).size().reset_index(name='Yearly_Case_Count')\n",
    "plt.figure(figsize=(10, 6))\n",
    "sns.lineplot(x='REPORT_YEAR', y='Yearly_Case_Count', data=yearly_cases,marker='o')\n",
    "plt.xlabel('Year')\n",
    "plt.ylabel('Number of Crime Cases')\n",
    "plt.title('Crime Cases by Year')\n",
    "plt.xticks(ticks=yearly_cases['REPORT_YEAR'], rotation=45)\n",
    "ax = plt.gca()\n",
    "ax.spines['top'].set_visible(False)\n",
    "ax.spines['right'].set_visible(False)\n",
    "plt.ylim(0)\n",
    "plt.show()"
   ]
  },
  {
   "cell_type": "markdown",
   "metadata": {
    "id": "g1aG7z9DmZzh"
   },
   "source": [
    "Key findings: The crime trend from 2014 to 2024 shows a steady increase in incidents until a peak in 2019, followed by a sharp decline in 2020 and 2021, likely due to the pandemic. Since then crime cases have continued to increase, with a notable surge in 2023."
   ]
  },
  {
   "cell_type": "code",
   "execution_count": null,
   "metadata": {
    "colab": {
     "base_uri": "https://localhost:8080/",
     "height": 564
    },
    "executionInfo": {
     "elapsed": 826,
     "status": "ok",
     "timestamp": 1730858714928,
     "user": {
      "displayName": "Suha Lee",
      "userId": "00332563912781774570"
     },
     "user_tz": 300
    },
    "id": "9YbahoYfl48H",
    "outputId": "8090fc02-a1f4-4e35-9e82-459913251df5"
   },
   "outputs": [],
   "source": [
    "yearly_cases_category = df_filtered.groupby(['REPORT_YEAR','MCI_CATEGORY']).size().reset_index(name='Case_Count')\n",
    "plt.figure(figsize=(10, 6))\n",
    "sns.barplot(x='REPORT_YEAR', y='Case_Count', hue='MCI_CATEGORY', data=yearly_cases_category)\n",
    "plt.title(\"Total Crime Cases by Category over Time (2014-2024)\")\n",
    "plt.xlabel('Year')\n",
    "plt.ylabel('Number of Cases')\n",
    "ax = plt.gca()\n",
    "ax.spines['top'].set_visible(False)\n",
    "ax.spines['right'].set_visible(False)\n",
    "plt.show()"
   ]
  },
  {
   "cell_type": "markdown",
   "metadata": {
    "id": "LIZRLPLjmpo3"
   },
   "source": [
    "**Key Findings:** The plot reveals that Assault consistently has the highest number of cases from 2014 to 2024, with a sharp increase in 2023. Auto Theft shows notable increase, while Robbery and Theft Over remain relatively stable but lower in frequency."
   ]
  },
  {
   "cell_type": "code",
   "execution_count": null,
   "metadata": {
    "executionInfo": {
     "elapsed": 5,
     "status": "ok",
     "timestamp": 1730858714928,
     "user": {
      "displayName": "Suha Lee",
      "userId": "00332563912781774570"
     },
     "user_tz": 300
    },
    "id": "wemb6_ykAQxV"
   },
   "outputs": [],
   "source": [
    "# Crime trend from 2021 - 2024\n",
    "df_recent = df[df['REPORT_YEAR'].isin([2021, 2022, 2023, 2024])]"
   ]
  },
  {
   "cell_type": "code",
   "execution_count": null,
   "metadata": {
    "colab": {
     "base_uri": "https://localhost:8080/",
     "height": 472
    },
    "executionInfo": {
     "elapsed": 664,
     "status": "ok",
     "timestamp": 1730858715588,
     "user": {
      "displayName": "Suha Lee",
      "userId": "00332563912781774570"
     },
     "user_tz": 300
    },
    "id": "ZoHZWSdcm1Ws",
    "outputId": "0bef2292-7999-4fe4-dac0-e54f52650d12"
   },
   "outputs": [],
   "source": [
    "sns.countplot(data=df_recent, x='MCI_CATEGORY',hue='MCI_CATEGORY')\n",
    "plt.title('Total Crime Cases by Category (2021-2024)')\n",
    "plt.xlabel('MCI Category')\n",
    "plt.ylabel('Number of Cases')\n",
    "ax = plt.gca()\n",
    "ax.spines['top'].set_visible(False)\n",
    "ax.spines['right'].set_visible(False)\n",
    "plt.show()"
   ]
  },
  {
   "cell_type": "code",
   "execution_count": null,
   "metadata": {
    "colab": {
     "base_uri": "https://localhost:8080/",
     "height": 564
    },
    "executionInfo": {
     "elapsed": 378,
     "status": "ok",
     "timestamp": 1730858715962,
     "user": {
      "displayName": "Suha Lee",
      "userId": "00332563912781774570"
     },
     "user_tz": 300
    },
    "id": "Yf-Ejpv3voxW",
    "outputId": "8dac8d4b-3151-4b76-8d76-614901d6fdca"
   },
   "outputs": [],
   "source": [
    "premised_cases_category = df_recent.groupby(['PREMISES_TYPE']).size().reset_index(name='Case_Count')\n",
    "total_cases = premised_cases_category['Case_Count'].sum()\n",
    "premised_cases_category['Percentage'] = (premised_cases_category['Case_Count'] / total_cases) * 100\n",
    "# sort by percentage\n",
    "premised_cases_category= premised_cases_category.sort_values(by='Percentage', ascending=False)\n",
    "\n",
    "\n",
    "plt.figure(figsize=(10, 6))\n",
    "sns.barplot(x='Percentage', y='PREMISES_TYPE', data=premised_cases_category, palette='viridis', hue='PREMISES_TYPE', legend=False)\n",
    "\n",
    "for index, value in enumerate(premised_cases_category['Percentage']):\n",
    "    plt.text(value - 2, index, f'{value:.2f}%', color='white', va='center')\n",
    "\n",
    "plt.title('Crime Distribution by Premise Type (2021-2024)')\n",
    "plt.xlabel('Percentage of Total Crime Cases (%)')\n",
    "plt.ylabel('Type of Premise')\n",
    "ax = plt.gca()\n",
    "ax.spines['top'].set_visible(False)\n",
    "ax.spines['right'].set_visible(False)\n",
    "plt.show()"
   ]
  },
  {
   "cell_type": "code",
   "execution_count": null,
   "metadata": {
    "colab": {
     "base_uri": "https://localhost:8080/",
     "height": 564
    },
    "executionInfo": {
     "elapsed": 149,
     "status": "ok",
     "timestamp": 1730858716110,
     "user": {
      "displayName": "Suha Lee",
      "userId": "00332563912781774570"
     },
     "user_tz": 300
    },
    "id": "9L4ldosMx4Ia",
    "outputId": "f7ed9a82-4620-41a4-c0bd-312abbe80004"
   },
   "outputs": [],
   "source": [
    "hour_cases = df_recent.groupby(['OCC_HOUR']).size().reset_index(name='Case_Count')\n",
    "\n",
    "plt.figure(figsize=(10, 6))\n",
    "sns.lineplot(x='OCC_HOUR', y='Case_Count', data=hour_cases, marker='o')\n",
    "plt.title('Crime Distribution by Time of Day (2021-2024)')\n",
    "plt.xlabel('Hour')\n",
    "plt.ylabel('Number of Cases')\n",
    "ax = plt.gca()\n",
    "ax.spines['top'].set_visible(False)\n",
    "ax.spines['right'].set_visible(False)\n",
    "plt.show()"
   ]
  },
  {
   "cell_type": "markdown",
   "metadata": {
    "id": "l2E_zy7ay9K0"
   },
   "source": [
    "**Key findings:** The plot shows crime peaking at midnight, followed by a sharp decline, with the lowest activity in the early morning hours. Crime gradually increases from 6:00 AM, with another rise in the afternoon and evening, remaining high between 3:00 PM and 9:00 PM."
   ]
  },
  {
   "cell_type": "code",
   "execution_count": null,
   "metadata": {
    "colab": {
     "base_uri": "https://localhost:8080/",
     "height": 564
    },
    "executionInfo": {
     "elapsed": 380,
     "status": "ok",
     "timestamp": 1730858716488,
     "user": {
      "displayName": "Suha Lee",
      "userId": "00332563912781774570"
     },
     "user_tz": 300
    },
    "id": "H9XWO47yzXQj",
    "outputId": "c5ddbb10-df73-472a-f112-acab1f23c83b"
   },
   "outputs": [],
   "source": [
    "# Define the logical order of the days of the week\n",
    "days_order = ['Monday', 'Tuesday', 'Wednesday', 'Thursday', 'Friday', 'Saturday', 'Sunday']\n",
    "\n",
    "# Normalize the day names in the 'OCC_DOW' column\n",
    "df_recent.loc[:, 'OCC_DOW'] = df_recent['OCC_DOW'].str.strip()\n",
    "\n",
    "# Grouping the data by day of the week\n",
    "day_of_week_cases = df_recent['OCC_DOW'].value_counts()\n",
    "\n",
    "# Reindex the grouped data to be in the correct order\n",
    "day_of_week_cases = day_of_week_cases.reindex(days_order)\n",
    "\n",
    "# Plotting the bar plot for crime cases by day of the week\n",
    "plt.figure(figsize=(10, 6))\n",
    "sns.barplot(x=day_of_week_cases.index, y=day_of_week_cases.values, palette='viridis', hue=day_of_week_cases.index, legend=False)\n",
    "\n",
    "plt.xlabel('Day of the Week')\n",
    "plt.ylabel('Number of Crime Cases')\n",
    "plt.title('Crime Cases by Day of the Week')\n",
    "ax = plt.gca()\n",
    "ax.spines['top'].set_visible(False)\n",
    "ax.spines['right'].set_visible(False)\n",
    "plt.show()"
   ]
  },
  {
   "cell_type": "markdown",
   "metadata": {
    "id": "uDpvRuVCz7rt"
   },
   "source": [
    "**Key findings:** The distribution of crime cases over days of the week show no significant trends, remaining relatively equal throughout."
   ]
  },
  {
   "cell_type": "code",
   "execution_count": null,
   "metadata": {
    "colab": {
     "base_uri": "https://localhost:8080/",
     "height": 472
    },
    "executionInfo": {
     "elapsed": 370,
     "status": "ok",
     "timestamp": 1730858716856,
     "user": {
      "displayName": "Suha Lee",
      "userId": "00332563912781774570"
     },
     "user_tz": 300
    },
    "id": "u-c_laCR6g2b",
    "outputId": "ece4ce1f-030b-437b-ff4d-f310b6c93a02"
   },
   "outputs": [],
   "source": [
    "NEIGHBOURHOOD_crime = df_recent.groupby(['NEIGHBOURHOOD_158']).size().reset_index(name='Case_Count')\n",
    "NEIGHBOURHOOD_crime = NEIGHBOURHOOD_crime.sort_values(by='Case_Count', ascending=False)\n",
    "NEIGHBOURHOOD_crime.head(10)\n",
    "\n",
    "sns.barplot(x='Case_Count', y='NEIGHBOURHOOD_158', data=NEIGHBOURHOOD_crime.head(10))\n",
    "plt.title('Top 10 Neighbourhoods by Crime Frequency(2021-2024)')\n",
    "plt.xlabel('Number of Cases')\n",
    "plt.ylabel('Neighbourhood')\n",
    "ax = plt.gca()\n",
    "ax.spines['top'].set_visible(False)\n",
    "ax.spines['right'].set_visible(False)\n",
    "plt.show()"
   ]
  },
  {
   "cell_type": "code",
   "execution_count": null,
   "metadata": {
    "colab": {
     "base_uri": "https://localhost:8080/",
     "height": 807,
     "output_embedded_package_id": "14o5GP_3vYLTOmBvUtFvM-j9sP1ogbuK0"
    },
    "executionInfo": {
     "elapsed": 6230,
     "status": "ok",
     "timestamp": 1730858723626,
     "user": {
      "displayName": "Suha Lee",
      "userId": "00332563912781774570"
     },
     "user_tz": 300
    },
    "id": "nAyja89dCxor",
    "outputId": "8582ea27-1598-46ed-ea5d-da0869cfac59"
   },
   "outputs": [],
   "source": [
    "# Create a base map centered around Toronto\n",
    "map_center = [43.7, -79.4]  # Rough center of Toronto\n",
    "crime_map = folium.Map(location=map_center, zoom_start=11)\n",
    "\n",
    "# Extract the coordinates from the dataframe as a list of lists\n",
    "heat_data = df_recent[['LAT_WGS84', 'LONG_WGS84']].dropna().values.tolist()\n",
    "\n",
    "# Add the heatmap to the map\n",
    "HeatMap(heat_data, radius=10).add_to(crime_map)\n",
    "\n",
    "# Display the map\n",
    "crime_map.save('crime_heatmap.html')\n",
    "crime_map"
   ]
  },
  {
   "cell_type": "code",
   "execution_count": null,
   "metadata": {
    "executionInfo": {
     "elapsed": 2,
     "status": "ok",
     "timestamp": 1730858723626,
     "user": {
      "displayName": "Suha Lee",
      "userId": "00332563912781774570"
     },
     "user_tz": 300
    },
    "id": "q3REEXPnLusH"
   },
   "outputs": [],
   "source": [
    "coordinates = df_recent[['LAT_WGS84', 'LONG_WGS84']].values\n",
    "\n",
    "# Standardize the data\n",
    "scaler = StandardScaler()\n",
    "coordinates_scaled = scaler.fit_transform(coordinates)"
   ]
  },
  {
   "cell_type": "code",
   "execution_count": null,
   "metadata": {
    "colab": {
     "base_uri": "https://localhost:8080/",
     "height": 564
    },
    "executionInfo": {
     "elapsed": 2303,
     "status": "ok",
     "timestamp": 1730858725927,
     "user": {
      "displayName": "Suha Lee",
      "userId": "00332563912781774570"
     },
     "user_tz": 300
    },
    "id": "HgoT_cAuL_iy",
    "outputId": "a2ace7de-a8fd-4929-fa37-ad2c6b3d99b5"
   },
   "outputs": [],
   "source": [
    "# Using Elbow Method to determine the optimal number of clusters\n",
    "inertia = []\n",
    "range_n_clusters = range(1, 20)\n",
    "\n",
    "for k in range_n_clusters:\n",
    "    kmeans = KMeans(n_clusters=k, random_state=42)\n",
    "    kmeans.fit(coordinates_scaled)\n",
    "    inertia.append(kmeans.inertia_)\n",
    "\n",
    "# Plotting the elbow curve\n",
    "plt.figure(figsize=(10, 6))\n",
    "plt.plot(range_n_clusters, inertia, marker='o', linestyle='-')\n",
    "plt.xlabel('Number of Clusters')\n",
    "plt.ylabel('Inertia')\n",
    "plt.title('Elbow Method to Find Optimal Number of Clusters')\n",
    "ax = plt.gca()\n",
    "ax.spines['top'].set_visible(False)\n",
    "ax.spines['right'].set_visible(False)\n",
    "plt.show()"
   ]
  },
  {
   "cell_type": "markdown",
   "metadata": {
    "id": "T97TaeW7gCnd"
   },
   "source": [
    "While the elbow method finds the ideal number of clusters based on a tradeoff of complexity and inertia change, this does not necessarily translate to an ideal number of police divisions to oversee the city."
   ]
  },
  {
   "cell_type": "code",
   "execution_count": null,
   "metadata": {
    "colab": {
     "base_uri": "https://localhost:8080/",
     "height": 807,
     "output_embedded_package_id": "1ynlRxwnfjTxIKl2wY68HUzuf4mDYgSBO"
    },
    "executionInfo": {
     "elapsed": 203131,
     "status": "ok",
     "timestamp": 1730858929056,
     "user": {
      "displayName": "Suha Lee",
      "userId": "00332563912781774570"
     },
     "user_tz": 300
    },
    "id": "dvAtRs1gMelA",
    "outputId": "6de3b6c6-4851-497f-eb0c-06fde9225cbb"
   },
   "outputs": [],
   "source": [
    "optimal_k = 16\n",
    "kmeans = KMeans(n_clusters=optimal_k, random_state=42)\n",
    "labels = kmeans.fit_predict(coordinates_scaled)\n",
    "\n",
    "# Add the cluster labels back to the dataframe safely\n",
    "df_new = df_recent.copy()  # Create a full copy of the DataFrame to avoid potential view-related issues\n",
    "df_new.loc[:, 'Cluster'] = labels\n",
    "\n",
    "# Create a folium map centered at Toronto\n",
    "map_center = [43.7, -79.4]\n",
    "crime_cluster_map = folium.Map(location=map_center, zoom_start=11)\n",
    "\n",
    "# Generate a list of colors from the colormap using the updated approach\n",
    "colormap = plt.colormaps['tab20']  # Access the colormap\n",
    "\n",
    "# Add the clusters to the map using different colors for each cluster\n",
    "for label in range(optimal_k):\n",
    "    color = mcolors.to_hex(colormap(label / (optimal_k - 1)))  # Normalize index to range [0, 1]\n",
    "    cluster_points = df_new[df_new['Cluster'] == label][['LAT_WGS84', 'LONG_WGS84']].values\n",
    "    for point in cluster_points:\n",
    "        folium.CircleMarker(\n",
    "            location=[point[0], point[1]],\n",
    "            radius=3,\n",
    "            color=color,\n",
    "            fill=True,\n",
    "            fill_color=color,\n",
    "            fill_opacity=0.6\n",
    "        ).add_to(crime_cluster_map)\n",
    "\n",
    "# Save and display the map\n",
    "crime_cluster_map.save('crime_cluster_map_k16.html')\n",
    "crime_cluster_map"
   ]
  },
  {
   "cell_type": "code",
   "execution_count": null,
   "metadata": {
    "colab": {
     "base_uri": "https://localhost:8080/",
     "height": 564
    },
    "executionInfo": {
     "elapsed": 10,
     "status": "ok",
     "timestamp": 1730858929056,
     "user": {
      "displayName": "Suha Lee",
      "userId": "00332563912781774570"
     },
     "user_tz": 300
    },
    "id": "j9Jz5zyxKRUR",
    "outputId": "0a4acc0d-730f-4fea-b9b7-da8a3809d782"
   },
   "outputs": [],
   "source": [
    "pca = PCA(n_components=2)\n",
    "coordinates_2d = pca.fit_transform(coordinates_scaled)\n",
    "\n",
    "plt.figure(figsize=(10, 6))\n",
    "sns.scatterplot(x=coordinates_2d[:, 0], y=-coordinates_2d[:, 1], hue=labels, palette='tab20', alpha=0.6)\n",
    "plt.xlabel('PCA Component 1')\n",
    "plt.ylabel('PCA Component 2 (flipped)')\n",
    "plt.title('Cluster Visualization in 2D Using PCA (Vertically Flipped)')\n",
    "plt.legend(loc='upper right', bbox_to_anchor=(1.2, 1))  # Adjust the legend position\n",
    "plt.show()"
   ]
  },
  {
   "cell_type": "code",
   "execution_count": null,
   "metadata": {
    "colab": {
     "base_uri": "https://localhost:8080/"
    },
    "executionInfo": {
     "elapsed": 7,
     "status": "ok",
     "timestamp": 1730858929056,
     "user": {
      "displayName": "Suha Lee",
      "userId": "00332563912781774570"
     },
     "user_tz": 300
    },
    "id": "STaW2oBKIEYG",
    "outputId": "87d9841c-eb9b-4284-eacc-9cac8bc0c17a"
   },
   "outputs": [],
   "source": [
    "cluster_counts = df_new['Cluster'].value_counts()\n",
    "print(cluster_counts)"
   ]
  },
  {
   "cell_type": "code",
   "execution_count": null,
   "metadata": {
    "colab": {
     "base_uri": "https://localhost:8080/",
     "height": 564
    },
    "executionInfo": {
     "elapsed": 5,
     "status": "ok",
     "timestamp": 1730858929056,
     "user": {
      "displayName": "Suha Lee",
      "userId": "00332563912781774570"
     },
     "user_tz": 300
    },
    "id": "Enm7OWQOIJdL",
    "outputId": "07426e2b-9d30-4990-c965-5f951eecd16c"
   },
   "outputs": [],
   "source": [
    "plt.figure(figsize=(10, 6))\n",
    "sns.barplot(x=cluster_counts.index, y=cluster_counts.values, palette='viridis', hue=cluster_counts.index, legend=False)\n",
    "plt.xlabel('Cluster Label')\n",
    "plt.ylabel('Number of Points')\n",
    "plt.title('Cluster Size Distribution')\n",
    "ax = plt.gca()\n",
    "ax.spines['top'].set_visible(False)\n",
    "ax.spines['right'].set_visible(False)\n",
    "plt.show()"
   ]
  },
  {
   "cell_type": "code",
   "execution_count": null,
   "metadata": {
    "colab": {
     "base_uri": "https://localhost:8080/"
    },
    "executionInfo": {
     "elapsed": 150,
     "status": "ok",
     "timestamp": 1730859532488,
     "user": {
      "displayName": "Suha Lee",
      "userId": "00332563912781774570"
     },
     "user_tz": 300
    },
    "id": "pktkUCM3IZrx",
    "outputId": "6728c6de-50c3-48f4-f2a9-ee435f9f1b21"
   },
   "outputs": [],
   "source": [
    "centroids = kmeans.cluster_centers_\n",
    "original_centroids = scaler.inverse_transform(centroids)  # Convert back to original scale\n",
    "centroid_df = pd.DataFrame(original_centroids, columns=['Latitude', 'Longitude'])\n",
    "print(centroid_df)"
   ]
  },
  {
   "cell_type": "code",
   "execution_count": null,
   "metadata": {
    "colab": {
     "base_uri": "https://localhost:8080/",
     "height": 807,
     "output_embedded_package_id": "1hSGUvtsp-XZF6OE4bz7HHRVijoigoMqJ"
    },
    "executionInfo": {
     "elapsed": 191029,
     "status": "ok",
     "timestamp": 1730859725574,
     "user": {
      "displayName": "Suha Lee",
      "userId": "00332563912781774570"
     },
     "user_tz": 300
    },
    "id": "0sQHHclzIdeu",
    "outputId": "87e7bc03-d95f-4adc-815b-68f8978a9c0b"
   },
   "outputs": [],
   "source": [
    "for idx, row in centroid_df.iterrows():\n",
    "    folium.Marker(\n",
    "        location=[row['Latitude'], row['Longitude']],\n",
    "        popup=f'Cluster {idx} Centroid',\n",
    "        icon=folium.Icon(color='blue', icon='info-sign')\n",
    "    ).add_to(crime_cluster_map)\n",
    "\n",
    "# Save the map\n",
    "crime_cluster_map.save('crime_cluster_map_with_centroids.html')\n",
    "crime_cluster_map"
   ]
  }
 ],
 "metadata": {
  "colab": {
   "provenance": []
  },
  "kernelspec": {
   "display_name": "Python 3",
   "name": "python3"
  },
  "language_info": {
   "codemirror_mode": {
    "name": "ipython",
    "version": 3
   },
   "file_extension": ".py",
   "mimetype": "text/x-python",
   "name": "python",
   "nbconvert_exporter": "python",
   "pygments_lexer": "ipython3",
   "version": "3.11.9"
  }
 },
 "nbformat": 4,
 "nbformat_minor": 0
}
